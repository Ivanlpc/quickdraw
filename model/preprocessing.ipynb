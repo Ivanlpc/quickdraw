{
 "cells": [
  {
   "cell_type": "markdown",
   "metadata": {},
   "source": [
    "1. Create a function to load ndjson files"
   ]
  },
  {
   "cell_type": "code",
   "execution_count": null,
   "metadata": {},
   "outputs": [],
   "source": [
    "def load_ndjson(file):\n",
    "    with open(file, 'r') as f:\n",
    "        data = f.readlines()\n",
    "    data = [d.strip() for d in data]\n",
    "    return data"
   ]
  },
  {
   "cell_type": "markdown",
   "metadata": {},
   "source": [
    "2. The NDJSON files contain all the data about a certain class. The drawings of the class are in an array of strokes. In order to use this dataset with a CNN, we need to transform those strokes into images."
   ]
  },
  {
   "cell_type": "code",
   "execution_count": null,
   "metadata": {},
   "outputs": [],
   "source": [
    "from PIL import Image, ImageDraw\n",
    "\n",
    "def stroke_to_img(strokes, img_size=(256, 256)):\n",
    "    img = Image.new('L', img_size, 255)\n",
    "    draw = ImageDraw.Draw(img)\n",
    "    for stroke in strokes:\n",
    "        coords = list(zip(stroke[0], stroke[1]))\n",
    "        draw.line(coords, fill=0, width=2)\n",
    "    return img"
   ]
  },
  {
   "cell_type": "markdown",
   "metadata": {},
   "source": [
    "3. Function to process a certain class given the NDJSON filename. It will load and iterate through the drawings of that class to convert them from strokes to images and split them into train and test datasets."
   ]
  },
  {
   "cell_type": "code",
   "execution_count": null,
   "metadata": {},
   "outputs": [],
   "source": [
    "import json, os\n",
    "def process_class(class_name):\n",
    "    ndjson = load_ndjson(f'./raw/{class_name}.ndjson')\n",
    "    if not os.path.exists(f'./processed_dataset/train/{class_name}'):\n",
    "        os.makedirs(f'./processed_dataset/train/{class_name}')\n",
    "    if not os.path.exists(f'./processed_dataset/test/{class_name}'):\n",
    "        os.makedirs(f'./processed_dataset/test/{class_name}')\n",
    "\n",
    "    items = len(ndjson)\n",
    "    index = 0\n",
    "    train_items = int(items * 0.8)\n",
    "    for item in ndjson:\n",
    "        data = json.loads(item)\n",
    "        drawing = data['drawing']\n",
    "        img = stroke_to_img(drawing)\n",
    "        if index < train_items:\n",
    "            img.save(f'./processed_dataset/train/{class_name}/{class_name}' + str(index) + '.png')\n",
    "        else:\n",
    "            img.save(f'./processed_dataset/test/{class_name}/{class_name}' + str(index) + '.png')\n",
    "        index += 1\n",
    "        print(f'Processing class {class_name}: ' + str(index) + '/' + str(items), end='\\r')"
   ]
  },
  {
   "cell_type": "markdown",
   "metadata": {},
   "source": [
    "4. Use a for loop to iterate all classes with the previous function"
   ]
  },
  {
   "cell_type": "code",
   "execution_count": null,
   "metadata": {},
   "outputs": [],
   "source": [
    "classes = [\"apple\", \"cat\", \"computer\", \"fish\", \"clock\", \"moon\", \"bird\", \"tree\", \"eyeglasses\", \"ice_cream\"]\n",
    "for class_name in classes:\n",
    "    process_class(class_name)\n",
    "    print(f'Processed class {class_name}')"
   ]
  }
 ],
 "metadata": {
  "language_info": {
   "name": "python"
  }
 },
 "nbformat": 4,
 "nbformat_minor": 2
}
